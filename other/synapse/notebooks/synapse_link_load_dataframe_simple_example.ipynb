{
  "cells": [
    {
      "cell_type": "code",
      "source": [
        "# Read from Cosmos DB analytical store into a Spark DataFrame and display 10 rows from the DataFrame\n",
        "# To select a preferred list of regions in a multi-region Cosmos DB account, add .option(\"spark.cosmos.preferredRegions\", \"<Region1>,<Region2>\")\n",
        "\n",
        "df = spark.read\\\n",
        "    .format(\"cosmos.olap\")\\\n",
        "    .option(\"spark.synapse.linkedService\", \"gbbcjcdbnosql_retail_db\")\\\n",
        "    .option(\"spark.cosmos.container\", \"sales\")\\\n",
        "    .load()\n",
        "\n",
        "display(df.limit(10))\n",
        "\n"
      ],
      "outputs": [],
      "execution_count": null,
      "metadata": {
        "collapsed": false
      }
    }
  ],
  "metadata": {
    "kernelspec": {
      "name": "synapse_pyspark",
      "language": "Python",
      "display_name": "Synapse PySpark"
    },
    "language_info": {
      "name": "python"
    },
    "kernel_info": {
      "name": "synapse_pyspark"
    },
    "description": null,
    "save_output": true,
    "synapse_widget": {
      "version": "0.1",
      "state": {}
    }
  },
  "nbformat": 4,
  "nbformat_minor": 2
}