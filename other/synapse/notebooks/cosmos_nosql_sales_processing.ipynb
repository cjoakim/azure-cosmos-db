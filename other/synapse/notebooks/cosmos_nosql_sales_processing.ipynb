{
  "cells": [
    {
      "cell_type": "markdown",
      "source": [
        "# Cosmos DB Synapse Sales Processing Spark Notebook\r\n",
        "\r\n",
        "## This Spark/PySpark Notebook demonstrates how to:\r\n",
        "\r\n",
        "- Read the Synapse Link Analytic Datastore with Spark/PySpark in Azure Synapse\r\n",
        "- Filter the sales data (by doctype, timestamp) while reading it \r\n",
        "- Aggregating the sales data by customer_id\r\n",
        "- Displaying the \"shape\" of the dataframes, and observed schema\r\n",
        "- Writing the aggregated \"materialized view\" of sales-by-customer to the Cosmos DB views container\r\n",
        "\r\n",
        "### Location\r\n",
        "\r\n",
        "- GitHub repo:  https://github.com/cjoakim/azure-cosmos-db-playground\r\n",
        "- File in repo: other/synapse/notebooks/cosmos_sql_sales_processing.ipynb\r\n",
        "\r\n",
        "Chris Joakim, Cosmos DB GBB, Microsoft\r\n"
      ],
      "metadata": {
        "nteract": {
          "transient": {
            "deleting": false
          }
        }
      }
    },
    {
      "cell_type": "markdown",
      "source": [
        "# Polulating the sales container\r\n",
        "\r\n",
        "In this GitHub repo, in directory '\\apis\\nosql\\dotnet', run the following command:\r\n",
        "\r\n",
        "```\r\n",
        "> python main.py load_sales retail sales sales1.json 99999\r\n",
        "```\r\n"
      ],
      "metadata": {
        "nteract": {
          "transient": {
            "deleting": false
          }
        }
      }
    },
    {
      "cell_type": "code",
      "source": [
        "# Load the SynapseLink Sales Data into a Dataframe.\n",
        "# Select just the \"sale\" document types from the sales container, \n",
        "# which have a minimum _ts (timestamp) value\n",
        "\n",
        "from pyspark.sql.functions import col\n",
        "\n",
        "# initialize variables\n",
        "begin_timestamp = 0  # 1675711974 \n",
        "end_timestamp   = 1699999999\n",
        "\n",
        "# read just the doctype \"sales\", not \"line_item\"\n",
        "# \"cosmos.oltp\" = CosmosDB live database\n",
        "# \"cosmos.olap\" = Synapse Link Analytic Datastore\n",
        "df_sales = spark.read\\\n",
        "    .format(\"cosmos.olap\")\\\n",
        "    .option(\"spark.synapse.linkedService\", \"gbbcjcdbnosql_retail_db\")\\\n",
        "    .option(\"spark.cosmos.container\", \"sales\")\\\n",
        "    .load().filter(col(\"doctype\") == \"sale\")\\\n",
        "    .filter(col(\"_ts\") > begin_timestamp)\\\n",
        "    .filter(col(\"_ts\") < end_timestamp)\n",
        "\n",
        "display(df_sales.limit(3))\n"
      ],
      "outputs": [
        {
          "output_type": "display_data",
          "data": {
            "application/vnd.livy.statement-meta+json": {
              "spark_pool": "sparkpool3m",
              "session_id": "0",
              "statement_id": 23,
              "state": "finished",
              "livy_statement_state": "available",
              "queued_time": "2023-02-07T14:58:50.0412387Z",
              "session_start_time": null,
              "execution_start_time": "2023-02-07T14:58:50.2495906Z",
              "execution_finish_time": "2023-02-07T14:58:54.2110724Z",
              "spark_jobs": null
            },
            "text/plain": "StatementMeta(sparkpool3m, 0, 23, Finished, Available)"
          },
          "metadata": {}
        },
        {
          "output_type": "display_data",
          "data": {
            "application/vnd.synapse.widget-view+json": {
              "widget_id": "99f9ea1d-a503-4d04-8df3-88ea54c327cb",
              "widget_type": "Synapse.DataFrame"
            },
            "text/plain": "SynapseWidget(Synapse.DataFrame, 99f9ea1d-a503-4d04-8df3-88ea54c327cb)"
          },
          "metadata": {}
        }
      ],
      "execution_count": 23,
      "metadata": {
        "collapsed": false
      }
    },
    {
      "cell_type": "code",
      "source": [
        "# Display the shape and observed schema of the DataFrame\r\n",
        "\r\n",
        "print('df_sales, shape: {} x {}'.format(\r\n",
        "        df_sales.count(), len(df_sales.columns)))\r\n",
        "        \r\n",
        "df_sales.printSchema()\r\n"
      ],
      "outputs": [
        {
          "output_type": "display_data",
          "data": {
            "application/vnd.livy.statement-meta+json": {
              "spark_pool": "sparkpool3m",
              "session_id": "0",
              "statement_id": 24,
              "state": "finished",
              "livy_statement_state": "available",
              "queued_time": "2023-02-07T14:58:50.0822543Z",
              "session_start_time": null,
              "execution_start_time": "2023-02-07T14:58:54.3696158Z",
              "execution_finish_time": "2023-02-07T14:58:54.9203456Z",
              "spark_jobs": null
            },
            "text/plain": "StatementMeta(sparkpool3m, 0, 24, Finished, Available)"
          },
          "metadata": {}
        },
        {
          "output_type": "stream",
          "name": "stdout",
          "text": [
            "df_sales, shape: 9069 x 19\nroot\n |-- _rid: string (nullable = true)\n |-- _ts: long (nullable = true)\n |-- pk: string (nullable = true)\n |-- id: string (nullable = true)\n |-- sale_id: long (nullable = true)\n |-- doctype: string (nullable = true)\n |-- date: string (nullable = true)\n |-- line_num: long (nullable = true)\n |-- customer_id: long (nullable = true)\n |-- store_id: long (nullable = true)\n |-- upc: string (nullable = true)\n |-- price: double (nullable = true)\n |-- qty: long (nullable = true)\n |-- cost: double (nullable = true)\n |-- seq: long (nullable = true)\n |-- _etag: string (nullable = true)\n |-- dow: string (nullable = true)\n |-- item_count: long (nullable = true)\n |-- total_cost: double (nullable = true)\n\n"
          ]
        }
      ],
      "execution_count": 24,
      "metadata": {
        "jupyter": {
          "source_hidden": false,
          "outputs_hidden": false
        },
        "nteract": {
          "transient": {
            "deleting": false
          }
        }
      }
    },
    {
      "cell_type": "code",
      "source": [
        "# Aggregate Sales by Customer \r\n",
        "\r\n",
        "import pyspark.sql.functions as F \r\n",
        "\r\n",
        "df_customer_aggregated = df_sales.groupBy(\"customer_id\") \\\r\n",
        "    .agg(\r\n",
        "        F.first('id').alias('id'), \\\r\n",
        "        F.first('customer_id').alias('pk'), \\\r\n",
        "        F.count(\"customer_id\").alias('order_count'), \\\r\n",
        "        F.sum(\"total_cost\").alias(\"total_dollar_amount\"), \\\r\n",
        "        F.sum(\"item_count\").alias(\"total_item_count\")) \\\r\n",
        "        .sort(\"customer_id\", ascending=True)\r\n",
        "\r\n",
        "display(df_customer_aggregated.limit(10))\r\n"
      ],
      "outputs": [
        {
          "output_type": "display_data",
          "data": {
            "application/vnd.livy.statement-meta+json": {
              "spark_pool": "sparkpool3m",
              "session_id": "0",
              "statement_id": 25,
              "state": "finished",
              "livy_statement_state": "available",
              "queued_time": "2023-02-07T14:58:50.1561827Z",
              "session_start_time": null,
              "execution_start_time": "2023-02-07T14:58:55.0497413Z",
              "execution_finish_time": "2023-02-07T14:58:55.5735446Z",
              "spark_jobs": null
            },
            "text/plain": "StatementMeta(sparkpool3m, 0, 25, Finished, Available)"
          },
          "metadata": {}
        },
        {
          "output_type": "display_data",
          "data": {
            "application/vnd.synapse.widget-view+json": {
              "widget_id": "823a6565-f0bc-41fa-abee-f35382386dd4",
              "widget_type": "Synapse.DataFrame"
            },
            "text/plain": "SynapseWidget(Synapse.DataFrame, 823a6565-f0bc-41fa-abee-f35382386dd4)"
          },
          "metadata": {}
        }
      ],
      "execution_count": 25,
      "metadata": {
        "jupyter": {
          "source_hidden": false,
          "outputs_hidden": false
        },
        "nteract": {
          "transient": {
            "deleting": false
          }
        },
        "collapsed": false
      }
    },
    {
      "cell_type": "code",
      "source": [
        "# Display the shape and observed schema of the DataFrame\r\n",
        "\r\n",
        "print('df_customer_aggregated, shape: {} x {}'.format(\r\n",
        "        df_customer_aggregated.count(), len(df_customer_aggregated.columns)))\r\n",
        "        \r\n",
        "df_customer_aggregated.printSchema()\r\n"
      ],
      "outputs": [
        {
          "output_type": "display_data",
          "data": {
            "application/vnd.livy.statement-meta+json": {
              "spark_pool": "sparkpool3m",
              "session_id": "0",
              "statement_id": 26,
              "state": "finished",
              "livy_statement_state": "available",
              "queued_time": "2023-02-07T14:58:50.1897161Z",
              "session_start_time": null,
              "execution_start_time": "2023-02-07T14:58:55.7078664Z",
              "execution_finish_time": "2023-02-07T14:58:56.231912Z",
              "spark_jobs": null
            },
            "text/plain": "StatementMeta(sparkpool3m, 0, 26, Finished, Available)"
          },
          "metadata": {}
        },
        {
          "output_type": "stream",
          "name": "stdout",
          "text": [
            "df_customer_aggregated, shape: 5908 x 6\nroot\n |-- customer_id: long (nullable = true)\n |-- id: string (nullable = true)\n |-- pk: long (nullable = true)\n |-- order_count: long (nullable = false)\n |-- total_dollar_amount: double (nullable = true)\n |-- total_item_count: long (nullable = true)\n\n"
          ]
        }
      ],
      "execution_count": 26,
      "metadata": {
        "jupyter": {
          "source_hidden": false,
          "outputs_hidden": false
        },
        "nteract": {
          "transient": {
            "deleting": false
          }
        }
      }
    },
    {
      "cell_type": "code",
      "source": [
        "# Write the customer-aggregated DataFrame to the CosmosDB\r\n",
        "# sales_aggregates container.  The id and pk is the customer ID,\r\n",
        "# and upserts are enabled.\r\n",
        "\r\n",
        "df_customer_aggregated.write.format(\"cosmos.oltp\")\\\r\n",
        "    .option(\"spark.synapse.linkedService\", \"gbbcjcdbnosql_retail_db\")\\\r\n",
        "    .option(\"spark.cosmos.container\", \"views\")\\\r\n",
        "    .mode('append')\\\r\n",
        "    .save()\r\n"
      ],
      "outputs": [
        {
          "output_type": "display_data",
          "data": {
            "application/vnd.livy.statement-meta+json": {
              "spark_pool": "sparkpool3m",
              "session_id": "0",
              "statement_id": 27,
              "state": "finished",
              "livy_statement_state": "available",
              "queued_time": "2023-02-07T14:58:50.2575654Z",
              "session_start_time": null,
              "execution_start_time": "2023-02-07T14:58:56.4572365Z",
              "execution_finish_time": "2023-02-07T14:59:11.2004151Z",
              "spark_jobs": null
            },
            "text/plain": "StatementMeta(sparkpool3m, 0, 27, Finished, Available)"
          },
          "metadata": {}
        }
      ],
      "execution_count": 27,
      "metadata": {
        "jupyter": {
          "source_hidden": false,
          "outputs_hidden": false
        },
        "nteract": {
          "transient": {
            "deleting": false
          }
        }
      }
    },
    {
      "cell_type": "markdown",
      "source": [
        "# Truncating the views container\r\n",
        "\r\n",
        "In this GitHub repo, in directory '\\apis\\nosql\\dotnet', run the following command:\r\n",
        "\r\n",
        "```\r\n",
        "> dotnet run truncate_container retail views\r\n",
        "```\r\n"
      ],
      "metadata": {
        "nteract": {
          "transient": {
            "deleting": false
          }
        }
      }
    }
  ],
  "metadata": {
    "kernelspec": {
      "name": "synapse_pyspark",
      "language": "Python",
      "display_name": "Synapse PySpark"
    },
    "language_info": {
      "name": "python"
    },
    "kernel_info": {
      "name": "synapse_pyspark"
    },
    "description": null,
    "save_output": true,
    "synapse_widget": {
      "version": "0.1",
      "state": {
        "99f9ea1d-a503-4d04-8df3-88ea54c327cb": {
          "type": "Synapse.DataFrame",
          "sync_state": {
            "table": {
              "rows": [
                {
                  "0": "FlhFAKBvTp12UQAAAAAAAA==",
                  "1": "1675719247",
                  "2": "4159",
                  "3": "1de51508-e505-454e-af40-e9254ce90fb2",
                  "4": "4159",
                  "5": "sale",
                  "6": "2022-10-12",
                  "8": "7655",
                  "9": "34",
                  "14": "20854",
                  "15": "\"b30053ee-0000-0100-0000-63e1724f0000\"",
                  "16": "wed",
                  "17": "5",
                  "18": "7110.11"
                },
                {
                  "0": "FlhFAKBvTp16UQAAAAAAAA==",
                  "1": "1675719247",
                  "2": "4160",
                  "3": "b9e5d46c-0cb6-4384-b3f3-34ddfeb5ca48",
                  "4": "4160",
                  "5": "sale",
                  "6": "2022-10-12",
                  "8": "3833",
                  "9": "44",
                  "14": "20858",
                  "15": "\"b30059ee-0000-0100-0000-63e1724f0000\"",
                  "16": "wed",
                  "17": "3",
                  "18": "3342.51"
                },
                {
                  "0": "FlhFAKBvTp1-UQAAAAAAAA==",
                  "1": "1675719247",
                  "2": "4161",
                  "3": "e42a4387-a322-46ff-9b35-4eb7de4460c6",
                  "4": "4161",
                  "5": "sale",
                  "6": "2022-10-12",
                  "8": "7693",
                  "9": "19",
                  "14": "20863",
                  "15": "\"b3005fee-0000-0100-0000-63e1724f0000\"",
                  "16": "wed",
                  "17": "4",
                  "18": "7562.36"
                }
              ],
              "schema": [
                {
                  "key": "0",
                  "name": "_rid",
                  "type": "string"
                },
                {
                  "key": "1",
                  "name": "_ts",
                  "type": "bigint"
                },
                {
                  "key": "2",
                  "name": "pk",
                  "type": "string"
                },
                {
                  "key": "3",
                  "name": "id",
                  "type": "string"
                },
                {
                  "key": "4",
                  "name": "sale_id",
                  "type": "bigint"
                },
                {
                  "key": "5",
                  "name": "doctype",
                  "type": "string"
                },
                {
                  "key": "6",
                  "name": "date",
                  "type": "string"
                },
                {
                  "key": "7",
                  "name": "line_num",
                  "type": "bigint"
                },
                {
                  "key": "8",
                  "name": "customer_id",
                  "type": "bigint"
                },
                {
                  "key": "9",
                  "name": "store_id",
                  "type": "bigint"
                },
                {
                  "key": "10",
                  "name": "upc",
                  "type": "string"
                },
                {
                  "key": "11",
                  "name": "price",
                  "type": "double"
                },
                {
                  "key": "12",
                  "name": "qty",
                  "type": "bigint"
                },
                {
                  "key": "13",
                  "name": "cost",
                  "type": "double"
                },
                {
                  "key": "14",
                  "name": "seq",
                  "type": "bigint"
                },
                {
                  "key": "15",
                  "name": "_etag",
                  "type": "string"
                },
                {
                  "key": "16",
                  "name": "dow",
                  "type": "string"
                },
                {
                  "key": "17",
                  "name": "item_count",
                  "type": "bigint"
                },
                {
                  "key": "18",
                  "name": "total_cost",
                  "type": "double"
                }
              ],
              "truncated": false
            },
            "isSummary": false,
            "language": "scala"
          },
          "persist_state": {
            "view": {
              "type": "details",
              "tableOptions": {},
              "chartOptions": {
                "chartType": "bar",
                "aggregationType": "sum",
                "categoryFieldKeys": [
                  "0"
                ],
                "seriesFieldKeys": [
                  "1"
                ],
                "isStacked": false
              }
            }
          }
        },
        "823a6565-f0bc-41fa-abee-f35382386dd4": {
          "type": "Synapse.DataFrame",
          "sync_state": {
            "table": {
              "rows": [
                {
                  "0": "1",
                  "1": "39653ff7-5edd-48f3-ae2a-a63331af2761",
                  "2": "1",
                  "3": "2",
                  "4": "9256.11",
                  "5": "7"
                },
                {
                  "0": "4",
                  "1": "7ded443a-4650-45dc-b818-fe1f2893e751",
                  "2": "4",
                  "3": "1",
                  "4": "8950.45",
                  "5": "4"
                },
                {
                  "0": "5",
                  "1": "d5c8cb35-f384-4486-924b-e41ac771fd27",
                  "2": "5",
                  "3": "1",
                  "4": "6133.86",
                  "5": "3"
                },
                {
                  "0": "7",
                  "1": "d9157750-2f20-4d94-b4d4-ec443dd1fe3f",
                  "2": "7",
                  "3": "1",
                  "4": "11534.97",
                  "5": "5"
                },
                {
                  "0": "8",
                  "1": "14601f06-0f3e-4941-830b-bbb0335de9dd",
                  "2": "8",
                  "3": "4",
                  "4": "19284.86",
                  "5": "15"
                },
                {
                  "0": "9",
                  "1": "905089ec-2cb8-4aed-9890-6757f2e10cf4",
                  "2": "9",
                  "3": "1",
                  "4": "7039.77",
                  "5": "5"
                },
                {
                  "0": "10",
                  "1": "5c413fad-11b8-4221-960a-fd9af6691347",
                  "2": "10",
                  "3": "4",
                  "4": "27707.63",
                  "5": "14"
                },
                {
                  "0": "12",
                  "1": "11d0236d-8cf5-4cef-aff5-d56e9c321861",
                  "2": "12",
                  "3": "1",
                  "4": "4390.55",
                  "5": "4"
                },
                {
                  "0": "13",
                  "1": "79b0b11b-d155-457b-adc7-4ee5de2b1fc7",
                  "2": "13",
                  "3": "1",
                  "4": "7184.35",
                  "5": "4"
                },
                {
                  "0": "17",
                  "1": "f12448bd-2692-4ec6-951d-5aec9b78d2ad",
                  "2": "17",
                  "3": "1",
                  "4": "9789.81",
                  "5": "4"
                }
              ],
              "schema": [
                {
                  "key": "0",
                  "name": "customer_id",
                  "type": "bigint"
                },
                {
                  "key": "1",
                  "name": "id",
                  "type": "string"
                },
                {
                  "key": "2",
                  "name": "pk",
                  "type": "bigint"
                },
                {
                  "key": "3",
                  "name": "order_count",
                  "type": "bigint"
                },
                {
                  "key": "4",
                  "name": "total_dollar_amount",
                  "type": "double"
                },
                {
                  "key": "5",
                  "name": "total_item_count",
                  "type": "bigint"
                }
              ],
              "truncated": false
            },
            "isSummary": false,
            "language": "scala"
          },
          "persist_state": {
            "view": {
              "type": "details",
              "tableOptions": {},
              "chartOptions": {
                "chartType": "bar",
                "aggregationType": "sum",
                "categoryFieldKeys": [
                  "1"
                ],
                "seriesFieldKeys": [
                  "0"
                ],
                "isStacked": false
              }
            }
          }
        }
      }
    }
  },
  "nbformat": 4,
  "nbformat_minor": 2
}